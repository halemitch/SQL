{
  "cells": [
    {
      "cell_type": "markdown",
      "metadata": {
        "id": "view-in-github",
        "colab_type": "text"
      },
      "source": [
        "<a href=\"https://colab.research.google.com/github/halemitch/SQL/blob/main/python/superhero_assignment.ipynb\" target=\"_parent\"><img src=\"https://colab.research.google.com/assets/colab-badge.svg\" alt=\"Open In Colab\"/></a>"
      ]
    },
    {
      "cell_type": "markdown",
      "id": "5fa8dcf6",
      "metadata": {
        "id": "5fa8dcf6"
      },
      "source": [
        "# Superhero Database Assignment (SQLite & Google Colab)\n",
        "\n",
        "## Objective\n",
        "In this assignment, you will design and implement a **Superhero Database** using SQLite in Google Colab. This database will store superheroes, villains, and their battles. You will write SQL queries to analyze battle outcomes and relationships between heroes and villains.\n",
        "\n",
        "### Group Size:\n",
        "- 2 to 3 students per group.\n",
        "\n",
        "### Tools Required:\n",
        "- **Google Colab**\n",
        "- **SQLite (built into Python)**\n",
        "- **CSV files (provided for import)**"
      ]
    },
    {
      "cell_type": "markdown",
      "id": "5535e625",
      "metadata": {
        "id": "5535e625"
      },
      "source": [
        "## Step 1: Setting Up Your SQLite Database\n",
        "\n",
        "### Tasks:\n",
        "1. Initialize SQLite in Google Colab.\n",
        "2. Create a database named `superhero_db.sqlite`.\n",
        "3. Define the database schema, ensuring it includes the following tables:\n",
        "   - `heroes`: Stores superhero names, powers, and teams.\n",
        "   - `villains`: Stores villains and their evil plans.\n",
        "   - `battles`: Tracks battles between heroes and villains, including the outcome.\n",
        "4. Implement primary keys and foreign keys where appropriate.\n",
        "\n",
        "✅ **Checkpoint:** Ensure that the database and tables have been successfully created."
      ]
    },
    {
      "cell_type": "code",
      "source": [
        "import sqlite3\n",
        "\n",
        "# Create or connect to an SQLite database\n",
        "connection = sqlite3.connect('superhero_db.sqlite')\n",
        "\n",
        "# Check if the connection was successful\n",
        "print(\"Database created and connected!\")"
      ],
      "metadata": {
        "colab": {
          "base_uri": "https://localhost:8080/"
        },
        "id": "XRBsPkb81Xu5",
        "outputId": "18605724-e114-4ae8-af41-a5c17c90ce60"
      },
      "id": "XRBsPkb81Xu5",
      "execution_count": 1,
      "outputs": [
        {
          "output_type": "stream",
          "name": "stdout",
          "text": [
            "Database created and connected!\n"
          ]
        }
      ]
    },
    {
      "cell_type": "code",
      "source": [
        "# Create a cursor object\n",
        "cursor = connection.cursor()\n",
        "\n",
        "# Explanation\n",
        "print(\"Cursor created!\")\n",
        "\n",
        "cursor.execute('''\n",
        "CREATE TABLE IF NOT EXISTS heroes (\n",
        "    id INTEGER PRIMARY KEY AUTOINCREMENT,\n",
        "    name TEXT NOT NULL,\n",
        "    power TEXT NOT NULL,\n",
        "    team TEXT NOT NULL\n",
        ")\n",
        "''')\n",
        "\n",
        "print(\"heroes table created!\")\n",
        "\n",
        "cursor.execute('''\n",
        "CREATE TABLE IF NOT EXISTS villans (\n",
        "    id INTEGER PRIMARY KEY AUTOINCREMENT,\n",
        "    name TEXT NOT NULL PRIMARY KEY,\n",
        "    evil_plan TEXT NOT NULL\n",
        ")\n",
        "''')\n",
        "\n",
        "print(\"villians table created!\")\n",
        "\n",
        "cursor.execute('''\n",
        "CREATE TABLE IF NOT EXISTS battles (\n",
        "    id INTEGER PRIMARY KEY AUTOINCREMENT,\n",
        "    hero_id INTEGER,\n",
        "    villian_id INTEGER,\n",
        "    outcome TEXT NOT NULL\n",
        ")\n",
        "''')\n",
        "\n",
        "print(\"heroes table created!\")\n",
        "\n",
        "# Close the cursor\n",
        "#cursor.close()\n",
        "\n",
        "# Explanation\n",
        "#print(\"Cursor closed!\")"
      ],
      "metadata": {
        "colab": {
          "base_uri": "https://localhost:8080/"
        },
        "id": "Jijie3vQ14xq",
        "outputId": "c05775a9-b1b3-467b-8105-35ad62c052b4"
      },
      "id": "Jijie3vQ14xq",
      "execution_count": 20,
      "outputs": [
        {
          "output_type": "stream",
          "name": "stdout",
          "text": [
            "Cursor created!\n",
            "heroes table created!\n",
            "villians table created!\n",
            "heroes table created!\n"
          ]
        }
      ]
    },
    {
      "cell_type": "markdown",
      "id": "154b3c3a",
      "metadata": {
        "id": "154b3c3a"
      },
      "source": [
        "## Step 2: Import Data from CSV Files\n",
        "\n",
        "### Tasks:\n",
        "1. Download the provided CSV files.\n",
        "2. Upload them to Google Colab.\n",
        "3. Write a script to import data from these files into the appropriate tables.\n",
        "4. Verify that the data has been successfully inserted.\n",
        "\n",
        "✅ **Checkpoint:** Ensure that each table contains the expected data from the CSV files."
      ]
    },
    {
      "cell_type": "code",
      "source": [
        "import pandas as pd\n",
        "\n",
        "# Load data from CSV into a DataFrame\n",
        "battles = pd.read_csv('battles.csv')\n",
        "\n",
        "# Display the first few rows of the DataFrame\n",
        "print(battles.head())"
      ],
      "metadata": {
        "colab": {
          "base_uri": "https://localhost:8080/"
        },
        "id": "ke5H8JXo4Zon",
        "outputId": "56c6e241-c8d2-4fe6-d292-7e3010bcbe08"
      },
      "id": "ke5H8JXo4Zon",
      "execution_count": 21,
      "outputs": [
        {
          "output_type": "stream",
          "name": "stdout",
          "text": [
            "   id  hero_id  villain_id       outcome\n",
            "0   1        1          10  Villain Wins\n",
            "1   2        9           3     Hero Wins\n",
            "2   3        8           1          Draw\n",
            "3   4        5           4  Villain Wins\n",
            "4   5        1           7     Hero Wins\n"
          ]
        }
      ]
    },
    {
      "cell_type": "code",
      "source": [
        "import pandas as pd\n",
        "\n",
        "# Load data from CSV into a DataFrame\n",
        "heroes = pd.read_csv('heroes.csv')\n",
        "\n",
        "# Display the first few rows of the DataFrame\n",
        "print(heroes.head())"
      ],
      "metadata": {
        "colab": {
          "base_uri": "https://localhost:8080/"
        },
        "id": "9yl0IZQh4myj",
        "outputId": "1925bf28-2605-485a-dcd1-931a5c650ba8"
      },
      "id": "9yl0IZQh4myj",
      "execution_count": 22,
      "outputs": [
        {
          "output_type": "stream",
          "name": "stdout",
          "text": [
            "   id        name             power            team\n",
            "0   1  Spider-Man      Web-slinging        Avengers\n",
            "1   2    Iron Man     Powered Armor        Avengers\n",
            "2   3      Batman  Genius Detective  Justice League\n",
            "3   4    Superman    Super Strength  Justice League\n",
            "4   5        Thor    God of Thunder        Avengers\n"
          ]
        }
      ]
    },
    {
      "cell_type": "code",
      "source": [
        "import pandas as pd\n",
        "\n",
        "# Load data from CSV into a DataFrame\n",
        "villains = pd.read_csv('villains.csv')\n",
        "\n",
        "# Display the first few rows of the DataFrame\n",
        "print(villains.head())"
      ],
      "metadata": {
        "colab": {
          "base_uri": "https://localhost:8080/"
        },
        "id": "RYxBOApm4qhc",
        "outputId": "63cdae81-e391-492b-dfb9-8771a933134c"
      },
      "id": "RYxBOApm4qhc",
      "execution_count": 23,
      "outputs": [
        {
          "output_type": "stream",
          "name": "stdout",
          "text": [
            "   id          name                           evil_plan\n",
            "0   1  Green Goblin                  Terrorize New York\n",
            "1   2        Thanos         Collect all Infinity Stones\n",
            "2   3         Joker              Spread chaos in Gotham\n",
            "3   4    Lex Luthor                     Defeat Superman\n",
            "4   5          Loki  Trick humanity into worshiping him\n"
          ]
        }
      ]
    },
    {
      "cell_type": "code",
      "source": [
        "villains.to_sql('villains', connection, if_exists='replace', index=False)\n",
        "print(\"Data from CSV has been inserted into the sales table.\")\n",
        "\n",
        "battles.to_sql('battles', connection, if_exists='replace', index=False)\n",
        "print(\"Data from CSV has been inserted into the sales table.\")\n",
        "\n",
        "heroes.to_sql('heroes', connection, if_exists='replace', index=False)\n",
        "print(\"Data from CSV has been inserted into the sales table.\")\n",
        "\n",
        "cursor.execute(\"SELECT * FROM heroes\")\n",
        "rows = cursor.fetchall()\n",
        "\n",
        "print(\"All sales data:\")\n",
        "for row in rows:\n",
        "    print(row)\n",
        "\n",
        "cursor.execute(\"SELECT * FROM villains\")\n",
        "rows2 = cursor.fetchall()\n",
        "\n",
        "print(\"All sales data:\")\n",
        "for row in rows2:\n",
        "    print(row)\n",
        "\n",
        "cursor.execute(\"SELECT * FROM battles\")\n",
        "rows3 = cursor.fetchall()\n",
        "\n",
        "print(\"All sales data:\")\n",
        "for row in rows3:\n",
        "    print(row)"
      ],
      "metadata": {
        "colab": {
          "base_uri": "https://localhost:8080/"
        },
        "id": "TzjGCVSA4_mE",
        "outputId": "d7beee6c-a998-4e8f-a696-958e60ce2693"
      },
      "id": "TzjGCVSA4_mE",
      "execution_count": 41,
      "outputs": [
        {
          "output_type": "stream",
          "name": "stdout",
          "text": [
            "Data from CSV has been inserted into the sales table.\n",
            "Data from CSV has been inserted into the sales table.\n",
            "Data from CSV has been inserted into the sales table.\n",
            "All sales data:\n",
            "(1, 'Spider-Man', 'Web-slinging', 'Avengers')\n",
            "(2, 'Iron Man', 'Powered Armor', 'Avengers')\n",
            "(3, 'Batman', 'Genius Detective', 'Justice League')\n",
            "(4, 'Superman', 'Super Strength', 'Justice League')\n",
            "(5, 'Thor', 'God of Thunder', 'Avengers')\n",
            "(6, 'Wonder Woman', 'Amazonian Strength', 'Justice League')\n",
            "(7, 'Black Panther', 'Enhanced Agility', 'Avengers')\n",
            "(8, 'The Flash', 'Super Speed', 'Justice League')\n",
            "(9, 'Hulk', 'Super Strength', 'Avengers')\n",
            "(10, 'Doctor Strange', 'Mystic Arts', 'Avengers')\n",
            "All sales data:\n",
            "(1, 'Green Goblin', 'Terrorize New York')\n",
            "(2, 'Thanos', 'Collect all Infinity Stones')\n",
            "(3, 'Joker', 'Spread chaos in Gotham')\n",
            "(4, 'Lex Luthor', 'Defeat Superman')\n",
            "(5, 'Loki', 'Trick humanity into worshiping him')\n",
            "(6, 'Ultron', 'AI world domination')\n",
            "(7, 'Darkseid', 'Control the universe')\n",
            "(8, 'Venom', 'Consume Spider-Man')\n",
            "(9, 'Magneto', 'Mutant supremacy')\n",
            "(10, 'Red Skull', 'Revive Hydra')\n",
            "All sales data:\n",
            "(1, 1, 10, 'Villain Wins')\n",
            "(2, 9, 3, 'Hero Wins')\n",
            "(3, 8, 1, 'Draw')\n",
            "(4, 5, 4, 'Villain Wins')\n",
            "(5, 1, 7, 'Hero Wins')\n",
            "(6, 2, 8, 'Villain Wins')\n",
            "(7, 9, 8, 'Hero Wins')\n",
            "(8, 3, 2, 'Hero Wins')\n",
            "(9, 7, 5, 'Hero Wins')\n",
            "(10, 3, 1, 'Draw')\n",
            "(11, 1, 8, 'Villain Wins')\n",
            "(12, 2, 1, 'Draw')\n",
            "(13, 8, 9, 'Hero Wins')\n",
            "(14, 8, 1, 'Draw')\n",
            "(15, 6, 10, 'Draw')\n",
            "(16, 1, 1, 'Villain Wins')\n",
            "(17, 8, 3, 'Draw')\n",
            "(18, 6, 3, 'Villain Wins')\n",
            "(19, 4, 8, 'Villain Wins')\n",
            "(20, 3, 4, 'Hero Wins')\n",
            "(21, 8, 1, 'Draw')\n",
            "(22, 4, 9, 'Draw')\n",
            "(23, 3, 9, 'Draw')\n",
            "(24, 8, 9, 'Villain Wins')\n",
            "(25, 2, 5, 'Draw')\n",
            "(26, 3, 7, 'Draw')\n",
            "(27, 10, 3, 'Draw')\n",
            "(28, 3, 8, 'Draw')\n",
            "(29, 3, 5, 'Hero Wins')\n",
            "(30, 5, 5, 'Hero Wins')\n"
          ]
        }
      ]
    },
    {
      "cell_type": "markdown",
      "id": "33548d9f",
      "metadata": {
        "id": "33548d9f"
      },
      "source": [
        "## Step 3: Querying the Database\n",
        "\n",
        "### Tasks:\n",
        "Write SQL queries to answer the following:\n",
        "1. Retrieve all superheroes and their powers.\n",
        "2. Find all battles where the hero won.\n",
        "3. List all villains and their evil plans.\n",
        "4. Determine which superhero has fought the most battles.\n",
        "\n",
        "✅ **Checkpoint:** Ensure that all queries return meaningful results from the database."
      ]
    },
    {
      "cell_type": "code",
      "source": [
        "cursor.execute(\"SELECT heroes.name, heroes.power FROM heroes\")\n",
        "rows = cursor.fetchall()\n",
        "for row in rows:\n",
        "    print(row)"
      ],
      "metadata": {
        "colab": {
          "base_uri": "https://localhost:8080/"
        },
        "id": "dVcpo5jX7QDs",
        "outputId": "81a64b0e-24e7-4990-f9f6-5c9f46139128"
      },
      "id": "dVcpo5jX7QDs",
      "execution_count": 83,
      "outputs": [
        {
          "output_type": "stream",
          "name": "stdout",
          "text": [
            "('Spider-Man', 'Web-slinging')\n",
            "('Iron Man', 'Powered Armor')\n",
            "('Batman', 'Genius Detective')\n",
            "('Superman', 'Super Strength')\n",
            "('Thor', 'God of Thunder')\n",
            "('Wonder Woman', 'Amazonian Strength')\n",
            "('Black Panther', 'Enhanced Agility')\n",
            "('The Flash', 'Super Speed')\n",
            "('Hulk', 'Super Strength')\n",
            "('Doctor Strange', 'Mystic Arts')\n"
          ]
        }
      ]
    },
    {
      "cell_type": "code",
      "source": [
        "cursor.execute(\n",
        "    '''SELECT battles.id, battles.outcome, heroes.name FROM battles\n",
        "    JOIN heroes ON battles.hero_id = heroes.id\n",
        "    WHERE outcome = 'Hero Wins'\n",
        "''')\n",
        "rows = cursor.fetchall()\n",
        "for row in rows:\n",
        "    print(row)"
      ],
      "metadata": {
        "colab": {
          "base_uri": "https://localhost:8080/"
        },
        "id": "Gp87nU1w7mvh",
        "outputId": "a6d1efc7-1083-4113-eebf-d4c71070cae9"
      },
      "id": "Gp87nU1w7mvh",
      "execution_count": 84,
      "outputs": [
        {
          "output_type": "stream",
          "name": "stdout",
          "text": [
            "(2, 'Hero Wins', 'Hulk')\n",
            "(5, 'Hero Wins', 'Spider-Man')\n",
            "(7, 'Hero Wins', 'Hulk')\n",
            "(8, 'Hero Wins', 'Batman')\n",
            "(9, 'Hero Wins', 'Black Panther')\n",
            "(13, 'Hero Wins', 'The Flash')\n",
            "(20, 'Hero Wins', 'Batman')\n",
            "(29, 'Hero Wins', 'Batman')\n",
            "(30, 'Hero Wins', 'Thor')\n"
          ]
        }
      ]
    },
    {
      "cell_type": "code",
      "source": [
        "cursor.execute(\"SELECT villains.name, villains.evil_plan FROM villains\")\n",
        "rows = cursor.fetchall()\n",
        "for row in rows:\n",
        "    print(row)"
      ],
      "metadata": {
        "colab": {
          "base_uri": "https://localhost:8080/"
        },
        "id": "eBzCFkcA8GzK",
        "outputId": "11120add-b5d2-46c4-8b86-cc291c07ed6d"
      },
      "id": "eBzCFkcA8GzK",
      "execution_count": 86,
      "outputs": [
        {
          "output_type": "stream",
          "name": "stdout",
          "text": [
            "('Green Goblin', 'Terrorize New York')\n",
            "('Thanos', 'Collect all Infinity Stones')\n",
            "('Joker', 'Spread chaos in Gotham')\n",
            "('Lex Luthor', 'Defeat Superman')\n",
            "('Loki', 'Trick humanity into worshiping him')\n",
            "('Ultron', 'AI world domination')\n",
            "('Darkseid', 'Control the universe')\n",
            "('Venom', 'Consume Spider-Man')\n",
            "('Magneto', 'Mutant supremacy')\n",
            "('Red Skull', 'Revive Hydra')\n"
          ]
        }
      ]
    },
    {
      "cell_type": "code",
      "source": [
        "cursor.execute(\n",
        "    '''SELECT heroes.name, COUNT(battles.id) FROM heroes\n",
        "    JOIN battles ON heroes.id = battles.hero_id\n",
        "    GROUP BY heroes.name\n",
        "    ORDER BY COUNT(battles.id) DESC\n",
        "    LIMIT 1'''\n",
        ")\n",
        "\n",
        "rows = cursor.fetchall()\n",
        "for row in rows:\n",
        "    print(row)"
      ],
      "metadata": {
        "colab": {
          "base_uri": "https://localhost:8080/"
        },
        "id": "G3FDkZ-Y8RXf",
        "outputId": "5938932b-8e12-4f5d-86b4-ec7a1c9d4e95"
      },
      "id": "G3FDkZ-Y8RXf",
      "execution_count": 85,
      "outputs": [
        {
          "output_type": "stream",
          "name": "stdout",
          "text": [
            "('Batman', 7)\n"
          ]
        }
      ]
    },
    {
      "cell_type": "markdown",
      "id": "de8bda94",
      "metadata": {
        "id": "de8bda94"
      },
      "source": [
        "## Step 4: Add a Custom Feature\n",
        "\n",
        "### Tasks:\n",
        "1. Design and implement an additional table related to superheroes or villains.\n",
        "2. Populate it with data.\n",
        "3. Write at least one query to retrieve meaningful insights from the new table.\n",
        "\n",
        "**Examples of Custom Features:**\n",
        "- Sidekicks for superheroes\n",
        "- Villain hideouts\n",
        "- Battle locations\n",
        "- Superhero equipment\n",
        "\n",
        "✅ **Checkpoint:** Ensure that the new table and queries function correctly."
      ]
    },
    {
      "cell_type": "code",
      "source": [
        "# Create the flavor_details table\n",
        "\n",
        "cursor.execute(\"DELETE FROM sidekicks\")\n",
        "connection.commit()\n",
        "\n",
        "print(\"All data from sales and flavor_details tables has been deleted.\")\n",
        "\n",
        "cursor.execute('''\n",
        "CREATE TABLE IF NOT EXISTS sidekicks (\n",
        "    id INTEGER PRIMARY KEY AUTOINCREMENT,\n",
        "    name TEXT NOT NULL,\n",
        "    power TEXT,\n",
        "    partner_name TEXT\n",
        ")\n",
        "''')\n",
        "\n",
        "print(\"Flavor details table created!\")\n",
        "\n",
        "data = [\n",
        "    ('Cherry', \"Freeze Ray\", \"Spider-Man\"),\n",
        "    ('Banana', \"Super Speed\", \"Iron Man\"),\n",
        "    ('Strawberry', \"Teleportation\", \"Batman\"),\n",
        "    ('Blueberry', \"X-ray vision\", \"Superman\"),\n",
        "    ('Kiwi', \"Super Strength\", \"Thor\"),\n",
        "    ('Raspberry', \"Mind Control\", \"Wonder Woman\"),\n",
        "    ('Orange', \"Invisibility\", \"Black Panther\"),\n",
        "    ('Melon', \"Telepathy\", \"The Flash\"),\n",
        "    ('Mango', \"Mind Reading\", \"Hulk\"),\n",
        "    ('Watermelon', \"Weather Control\", \"Doctor Strange\"),\n",
        "\n",
        "]\n",
        "\n",
        "cursor.executemany('''\n",
        "INSERT INTO sidekicks (name, power, partner_name) VALUES (?, ?, ?)\n",
        "''', data)\n",
        "\n",
        "# Commit the transaction\n",
        "connection.commit()\n",
        "\n",
        "print(\"Data inserted into the flavor details table!\")\n",
        "\n",
        "cursor.execute(\"SELECT * FROM sidekicks\")\n",
        "rows4 = cursor.fetchall()\n",
        "\n",
        "print(\"All sales data:\")\n",
        "for row in rows4:\n",
        "    print(row)"
      ],
      "metadata": {
        "colab": {
          "base_uri": "https://localhost:8080/"
        },
        "id": "q-rbOkl4-ETI",
        "outputId": "03f501c7-6652-4d2b-8019-095f24450452"
      },
      "id": "q-rbOkl4-ETI",
      "execution_count": 87,
      "outputs": [
        {
          "output_type": "stream",
          "name": "stdout",
          "text": [
            "All data from sales and flavor_details tables has been deleted.\n",
            "Flavor details table created!\n",
            "Data inserted into the flavor details table!\n",
            "All sales data:\n",
            "(31, 'Cherry', 'Freeze Ray', 'Spider-Man')\n",
            "(32, 'Banana', 'Super Speed', 'Iron Man')\n",
            "(33, 'Strawberry', 'Teleportation', 'Batman')\n",
            "(34, 'Blueberry', 'X-ray vision', 'Superman')\n",
            "(35, 'Kiwi', 'Super Strength', 'Thor')\n",
            "(36, 'Raspberry', 'Mind Control', 'Wonder Woman')\n",
            "(37, 'Orange', 'Invisibility', 'Black Panther')\n",
            "(38, 'Melon', 'Telepathy', 'The Flash')\n",
            "(39, 'Mango', 'Mind Reading', 'Hulk')\n",
            "(40, 'Watermelon', 'Weather Control', 'Doctor Strange')\n"
          ]
        }
      ]
    },
    {
      "cell_type": "code",
      "source": [
        "cursor.execute(\n",
        "    '''SELECT heroes.name, sidekicks.name FROM heroes\n",
        "    LEFT JOIN sidekicks ON heroes.name = sidekicks.partner_name\n",
        "'''\n",
        ")\n",
        "#gives all of the superhero and sidekick pairings\n",
        "rows = cursor.fetchall()\n",
        "for row in rows:\n",
        "    print(row)"
      ],
      "metadata": {
        "colab": {
          "base_uri": "https://localhost:8080/"
        },
        "id": "zSJUhyy9-zl0",
        "outputId": "bfda7b9f-5d8e-4453-cf77-e2a7071affa4"
      },
      "id": "zSJUhyy9-zl0",
      "execution_count": 88,
      "outputs": [
        {
          "output_type": "stream",
          "name": "stdout",
          "text": [
            "('Spider-Man', 'Cherry')\n",
            "('Iron Man', 'Banana')\n",
            "('Batman', 'Strawberry')\n",
            "('Superman', 'Blueberry')\n",
            "('Thor', 'Kiwi')\n",
            "('Wonder Woman', 'Raspberry')\n",
            "('Black Panther', 'Orange')\n",
            "('The Flash', 'Melon')\n",
            "('Hulk', 'Mango')\n",
            "('Doctor Strange', 'Watermelon')\n"
          ]
        }
      ]
    },
    {
      "cell_type": "markdown",
      "id": "9bf43fe6",
      "metadata": {
        "id": "9bf43fe6"
      },
      "source": [
        "## Bonus Challenge (+5 Points)\n",
        "\n",
        "### Tasks:\n",
        "1. Enhance your project by adding a visual or interactive component.\n",
        "\n",
        "**Options:**\n",
        "- Visualize battles using Matplotlib (e.g., a bar chart showing how many battles each superhero has fought).\n",
        "- Make it interactive (e.g., allow users to input a superhero name and display their battles).\n",
        "\n",
        "✅ **Checkpoint:** If attempting the bonus, ensure that your visualization or interactive component works correctly."
      ]
    },
    {
      "cell_type": "code",
      "source": [
        "import matplotlib.pyplot as plt\n",
        "\n",
        "df = pd.read_sql_query(\n",
        "    '''SELECT heroes.name, COUNT(battles.id) FROM heroes\n",
        "    JOIN battles ON heroes.id = battles.hero_id\n",
        "    WHERE outcome = 'Hero Wins'\n",
        "    GROUP BY heroes.name\n",
        "    ORDER BY COUNT(battles.id) DESC''', connection\n",
        ")\n",
        "\n",
        "plt.figure(figsize = (10,6))\n",
        "plt.bar(df['name'], df['COUNT(battles.id)'], color = 'navy')\n",
        "plt.xlabel('Hero Name')\n",
        "plt.ylabel('Number of Battles Won')\n",
        "plt.title('Number of Battles Won by Each Hero')\n",
        "plt.show()"
      ],
      "metadata": {
        "id": "SIXTuDNXPXlc",
        "outputId": "a4af90c6-e51c-48e0-e897-27cc1b6ad01c",
        "colab": {
          "base_uri": "https://localhost:8080/",
          "height": 517
        }
      },
      "id": "SIXTuDNXPXlc",
      "execution_count": 82,
      "outputs": [
        {
          "output_type": "display_data",
          "data": {
            "text/plain": [
              "<Figure size 1000x600 with 1 Axes>"
            ],
            "image/png": "[encoded data removed]"
          },
          "metadata": {}
        }
      ]
    },
    {
      "cell_type": "markdown",
      "id": "89f56c05",
      "metadata": {
        "id": "89f56c05"
      },
      "source": [
        "## Submission Guidelines\n",
        "\n",
        "Each group must submit a **Google Colab Notebook (.ipynb)** containing:\n",
        "- ✅ **Database schema (DDL)**\n",
        "- ✅ **CSV imports & data insertion (DML)**\n",
        "- ✅ **SQL queries & results**\n",
        "- ✅ **Custom feature (bonus if applicable)**"
      ]
    },
    {
      "cell_type": "markdown",
      "id": "61477c9b",
      "metadata": {
        "id": "61477c9b"
      },
      "source": [
        "## Grading Criteria (Total: 25 Points)\n",
        "\n",
        "| Section                 | Points |\n",
        "|-------------------------|--------|\n",
        "| Database Setup          | 5      |\n",
        "| Data Importing         | 10     |\n",
        "| Querying the Data      | 10     |\n",
        "| Extra Feature          | 5      |\n",
        "| Bonus Challenge (Optional) | +5  |"
      ]
    },
    {
      "cell_type": "markdown",
      "id": "92bf6839",
      "metadata": {
        "id": "92bf6839"
      },
      "source": [
        "### Final Notes:\n",
        "- Be **creative** when designing superheroes and villains.\n",
        "- **Comment your code** to explain its functionality.\n",
        "- **Have fun** building your superhero universe!"
      ]
    }
  ],
  "metadata": {
    "colab": {
      "provenance": [],
      "include_colab_link": true
    },
    "language_info": {
      "name": "python"
    },
    "kernelspec": {
      "name": "python3",
      "display_name": "Python 3"
    }
  },
  "nbformat": 4,
  "nbformat_minor": 5
}